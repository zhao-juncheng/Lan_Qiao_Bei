{
 "cells": [
  {
   "cell_type": "markdown",
   "source": [
    "# 分治法\n",
    "## 一、合并两个有序链表\n",
    "### 大致思路\n",
    "- 两个链表a、b，升序，合并，使用分治法\n",
    "- 定义一个哨兵节点sentinel，定位于合并后链表的头结点（只起定位作用，位于第一个有效节点之前的）\n",
    "- 定义一个游标节点curr，用于循环的去标定待合并元素，以便进行元素之间的比较与合并到结果链表中，curr初始化指向sentinel\n",
    "- 在while循环中进行两个链表元素的比较与合并，直到一个链表为空，循环结束\n",
    "- 循环结束后，还存在一个链表a / b 还存在一些节点，这些节点就可以直接合并到结果链表中\n",
    "- 最终返回结果链表的指针，即结果链表的第一个节点的指针，即哨兵节点的next指针"
   ],
   "metadata": {
    "collapsed": false
   }
  },
  {
   "cell_type": "code",
   "execution_count": null,
   "outputs": [],
   "source": [
    "class ListNode:\n",
    "    def __init__(self,x):\n",
    "        self.val=x\n",
    "        self.next=None\n",
    "\n",
    "def merge(l1,l2):\n",
    "    sentinal = ListNode(-1)\n",
    "    curr = sentinal\n",
    "    while l2 and l1:\n",
    "        if l1.val<l2.val:\n",
    "            curr = l1\n",
    "            l1=l1.next\n",
    "        else:\n",
    "            curr = l2\n",
    "            l2=l2.next\n",
    "        curr = curr.next\n",
    "\n",
    "    # curr.next=l1 if l1 is not None else l2 # 简洁写法\n",
    "    if l1:\n",
    "        curr.next=l1\n",
    "    else:\n",
    "        curr.next=l2\n",
    "    return sentinal.next"
   ],
   "metadata": {
    "collapsed": false
   }
  },
  {
   "cell_type": "markdown",
   "source": [
    "## 二 分治法\n",
    "### 思路分析\n",
    "- 上一个方法是可以用于合并K个有序链表，但K个链表中，先合并的链表在后续合并时会被再次比较，重复比较会降低算法效率，于是方法二采用分治法的思想进行优化。\n",
    "### 例子\n",
    "- 假设有5个有序链表，如下：\n",
    "  - L0:1->4->7\n",
    "  - L1:2->3->8\n",
    "  - L2:5->10->14\n",
    "  - L3:9->13\n",
    "  - L4:18->20\n",
    "- amount = 5 ,interval = 1\n",
    "- while 一：i=[0,4),步长=2，so，i=0,2。\n",
    "  - for 一：\n",
    "    - mergeTwo（L0，L1)-->合并后存放到L0中：L0：1->2->3->4->7->8\n",
    "  - for 二：\n",
    "    - mergeTwo（L2，L3)-->合并后存放到L2中：L2：5->9->10->13->14\n",
    "  - interval *2=2<5=amount ，继续while 二。\n",
    "- while 二：i=[0,3),步长=4，i=0.\n",
    "  - for 一：\n",
    "    - mergeTwo(L0,L2)-->合并后存放到L0中：L0:1->2->3->4->5->7->8->9->10->13->14\n",
    "  - interval *2=4 < 5=amount ，继续while 三。\n",
    "- while 三：i=[0,1),步长=8，i=0.\n",
    "  - for 一：\n",
    "    - mergeTwo(L0,L4)-->合并后存放到L0中：L0:1->2->3->4->5->7->8->9->10->13->14->18->20\n",
    "<img src=\"img\\示例图.jpg\" width=\"1000\" height=\"600\">"
   ],
   "metadata": {
    "collapsed": false
   }
  },
  {
   "cell_type": "code",
   "execution_count": null,
   "outputs": [],
   "source": [
    "from typing import List\n",
    "# Definition for singly-linked list\n",
    "class ListNode:\n",
    "    def __init__(self,x):\n",
    "        self.val=x\n",
    "        self.next=None\n",
    "\n",
    "class Solution:\n",
    "    def mergeKLists(self,lists):\n",
    "        def mergeTwoLists(l1,l2):\n",
    "            sentinel = ListNode(-1) # 哨兵节点\n",
    "            curr = sentinel\n",
    "            while l1 and l2:\n",
    "                if l1.val <= l2.val:\n",
    "                    curr = l1\n",
    "                    l1 = l1.next\n",
    "                else:\n",
    "                    curr = l2\n",
    "                    l2 = l2.next\n",
    "                curr = curr.next\n",
    "\n",
    "            curr.next = l1 if l1 is not None else l2\n",
    "            return sentinel.next\n",
    "\n",
    "        amount = len(lists)\n",
    "        interval = 1\n",
    "        while interval < amount:\n",
    "            for i in range(0,amount-interval,interval*2):\n",
    "                lists[i]=mergeTwoLists(lists[i],lists[i+interval])\n",
    "            interval *=2\n",
    "        return lists[0] if amount > 0 else lists"
   ],
   "metadata": {
    "collapsed": false
   }
  },
  {
   "cell_type": "markdown",
   "source": [
    "## 第215题 数组中的第K个最大元素\n"
   ],
   "metadata": {
    "collapsed": false
   }
  },
  {
   "cell_type": "code",
   "execution_count": null,
   "outputs": [],
   "source": [],
   "metadata": {
    "collapsed": false
   }
  },
  {
   "cell_type": "code",
   "execution_count": null,
   "outputs": [],
   "source": [],
   "metadata": {
    "collapsed": false
   }
  },
  {
   "cell_type": "code",
   "execution_count": null,
   "outputs": [],
   "source": [],
   "metadata": {
    "collapsed": false
   }
  },
  {
   "cell_type": "code",
   "execution_count": null,
   "outputs": [],
   "source": [],
   "metadata": {
    "collapsed": false
   }
  },
  {
   "cell_type": "code",
   "execution_count": null,
   "outputs": [],
   "source": [],
   "metadata": {
    "collapsed": false
   }
  },
  {
   "cell_type": "code",
   "execution_count": null,
   "outputs": [],
   "source": [],
   "metadata": {
    "collapsed": false
   }
  },
  {
   "cell_type": "code",
   "execution_count": null,
   "outputs": [],
   "source": [],
   "metadata": {
    "collapsed": false
   }
  },
  {
   "cell_type": "code",
   "execution_count": null,
   "outputs": [],
   "source": [],
   "metadata": {
    "collapsed": false
   }
  }
 ],
 "metadata": {
  "kernelspec": {
   "display_name": "Python 3",
   "language": "python",
   "name": "python3"
  },
  "language_info": {
   "codemirror_mode": {
    "name": "ipython",
    "version": 2
   },
   "file_extension": ".py",
   "mimetype": "text/x-python",
   "name": "python",
   "nbconvert_exporter": "python",
   "pygments_lexer": "ipython2",
   "version": "2.7.6"
  }
 },
 "nbformat": 4,
 "nbformat_minor": 0
}
