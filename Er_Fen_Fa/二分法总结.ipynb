{
 "cells": [
  {
   "cell_type": "markdown",
   "metadata": {},
   "source": [
    "# 二分法的几个变种\n",
    "\n",
    "## 普通二分法：\n",
    "  1. 二分查找空间：确定在那个范围里进行查找检索\n",
    "  2. 二分判断：对于每一次的mid，要进行一次判断，是否是查找到了，或者是继续二分进行查找\n",
    "  3. 查找结束条件：一般是 **while left<=right:** 且 **if left==right:** 退出while循环"
   ]
  },
  {
   "cell_type": "markdown",
   "metadata": {},
   "source": [
    "## 二分查找最左满足条件的值：\n",
    "  1. 最左满足条件的例子如下：\n",
    "     - 升序数组 n=[1,2,3,3,3,4,5,6]，找**第一个大于等于 X** 的元素。\n",
    "     - 若X=2，则n中的目标值就是n[1]=2。查找方法如下：\n",
    "     - l=0,r=7,mid=3,n[3]=3>=2 Y r=mid=3\n",
    "     - l=0,r=3,mid=1,n[1]=2>=2 Y r=mid=1\n",
    "\t  - l=0，r=1,mid=0,n[0]=1 >= 2 N l=mid+1=1\n",
    "\t  - l=1,r=1,break\n",
    "\t  - 找到了：n[l]=2，即为 n 中第一个大于等于 2 的元素。\n",
    "  2. 上面的查找操作，可以这么理解，在升序数组中，对于找到的第一个满足这个要求的元素，应该考虑到在该元素之前，也就是在该元素的左边，是否还存在满足要求的元素\n",
    "  3. 因此，**if mid >= x :**,则更新右边界：**r=mid**。\n",
    "    - 不能让**r=mid-1**，因为，当前这个mid元素就是符合要求的元素，下一步二分范围的右边界更新，不能将当前这个元素给丢弃，因此，**r=mid**\n",
    "  4. 因此，**if mid < x :**,则更新右边界：**l=mid+1**。\n",
    "    - 当前的这个mid元素是不符合要求的，于是，下一步二分范围的左边界更新，就要把该元素排除掉，不能继续保留，于是**l=mid+1**\n",
    "\n",
    "## 总结：\n",
    "  - 如上述的第二点，此种二分查找的情况就可以被称为**“最左满足条件值”**类型的二分查找"
   ]
  },
  {
   "cell_type": "code",
   "execution_count": 3,
   "metadata": {},
   "outputs": [
    {
     "name": "stdout",
     "output_type": "stream",
     "text": [
      "mid= 3\n",
      "mid= 1\n",
      "mid= 2\n",
      "mid= 2\n",
      "nums[2]=3\n"
     ]
    }
   ],
   "source": [
    "def ls(nums,x):\n",
    "    '''\n",
    "    在nums数组中查找第一个大于等于 x 的元素\n",
    "    nums:List[int]\n",
    "    x:int\n",
    "    return:int,找到元素的索引值\n",
    "    '''\n",
    "    left,right=0,len(nums)-1\n",
    "    while left<=right:\n",
    "        mid=(left+right)//2\n",
    "        print('mid=',mid)\n",
    "        if left==right:\n",
    "            break\n",
    "        elif nums[mid]>=x:\n",
    "            right=mid\n",
    "        else:\n",
    "            left=mid+1\n",
    "    return left\n",
    "\n",
    "nums=[1,2,3,3,3,4,5,6]\n",
    "x=3\n",
    "index=ls(nums,x)\n",
    "print('nums[{0}]={1}'.format(index,nums[index]))"
   ]
  },
  {
   "cell_type": "markdown",
   "metadata": {},
   "source": [
    "## 二分查找最右满足条件的值：\n",
    "  1. 最右满足条件的例子如下：\n",
    "    - 升序数组 n=[1,2,3,3,3,4,5,6]，找**最后一个小于等于 X** 的元素。\n",
    "    - 若 X=4，则n中的目标值就是n[5]=4。查找方法如下：\n",
    "    - l=0,r=7,mid=3.n[3]=3<=4 Y l=mid=3\n",
    "    - l=3,r=7,mid=5.n[5]=4<=4 Y l=mid=5\n",
    "    - l=5,r=7,mid=6.n[6]=5<=4 N r=mid-1=5\n",
    "    - l=5,r=5,break\n",
    "  2. 还需要总结一下，以及将死循环的出现捋一捋。"
   ]
  },
  {
   "cell_type": "code",
   "execution_count": 2,
   "metadata": {},
   "outputs": [
    {
     "name": "stdout",
     "output_type": "stream",
     "text": [
      "mid= 3\n",
      "mid= 5\n",
      "mid= 3\n",
      "nums[4]=3\n"
     ]
    }
   ],
   "source": [
    "def rs(nums,x):\n",
    "    '''\n",
    "    在nums数组中查找最后一个小于等于 x 的元素\n",
    "    nums:List[int]\n",
    "    x:int\n",
    "    return:int,找到元素的索引值\n",
    "    '''\n",
    "    left,right=0,len(nums)-1\n",
    "    while left<=right:\n",
    "        mid=(left+right)//2\n",
    "        print('mid=',mid)\n",
    "        if left==right or left+1==right:\n",
    "        #if left==right: # 若 X=3. 此时会陷入死循环，因此，要使用上面的 if 判断\n",
    "            break\n",
    "        if nums[mid]<=x:\n",
    "            left=mid\n",
    "        else:\n",
    "            right=mid-1\n",
    "    if nums[right]<=x:\n",
    "        return right\n",
    "    else:\n",
    "        return left\n",
    "    \n",
    "nums=[1,2,3,3,3,4,5,6]\n",
    "x=3\n",
    "index=rs(nums,x)\n",
    "print('nums[{0}]={1}'.format(index,nums[index]))"
   ]
  }
 ],
 "metadata": {
  "kernelspec": {
   "display_name": "Python 3",
   "language": "python",
   "name": "python3"
  },
  "language_info": {
   "codemirror_mode": {
    "name": "ipython",
    "version": 3
   },
   "file_extension": ".py",
   "mimetype": "text/x-python",
   "name": "python",
   "nbconvert_exporter": "python",
   "pygments_lexer": "ipython3",
   "version": "3.7.0"
  }
 },
 "nbformat": 4,
 "nbformat_minor": 2
}
