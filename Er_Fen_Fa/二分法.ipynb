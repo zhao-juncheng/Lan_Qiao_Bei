{
 "cells": [
  {
   "cell_type": "markdown",
   "metadata": {},
   "source": [
    "# 二分法\n",
    "## 153寻找旋转排序数组中的最小值\n",
    "有序数组的一个旋转：\n",
    "- [1,2,3,4,5]--->[3,4,5,1,2]\n",
    "- [0,1,2,4,5,6,7]--->[4,5,6,7,0,1,2]\n",
    "\n",
    "找到他的最小值：\n",
    "1. 两个指针：h:head, r:rear   \n",
    "\n",
    "2. 目前是较大的数值排在序列的左边：  \n",
    "\n",
    "  - 因此，根据适当的修改二分法，当mid的值 **大于** 序列最左边的值：  \n",
    "    **nums[mid] > nums[r]**,则较小值处于序列的左边，mid = h + 1  \n",
    "  - 当mid的值 **小于** 序列最左边的值：  \n",
    "    **nums[mid] < nums[r]**,则较小值处于序列的右边，mid = r"
   ]
  },
  {
   "cell_type": "code",
   "execution_count": null,
   "metadata": {},
   "outputs": [],
   "source": [
    "class solution:\n",
    "    \n",
    "    def findMin(self,nums):\n",
    "        '''\n",
    "        nums:List[int]\n",
    "        return:int\n",
    "        '''\n",
    "        h,r = 0,len(nums)-1\n",
    "        while h < r:\n",
    "            mid = 1 + (h - r) // 2\n",
    "            if h == r:\n",
    "                return nums[r]\n",
    "            elif nums[mid] > nums[r]:\n",
    "                mid = h + 1\n",
    "            elif nums[mid] < nums[r] :\n",
    "                mid = r\n",
    "        return -1"
   ]
  },
  {
   "cell_type": "code",
   "execution_count": null,
   "metadata": {},
   "outputs": [],
   "source": [
    "a = solution()\n",
    "nums = [3,4,5,1,2]\n",
    "min = a.findMin(nums)\n",
    "print(\"最小值为：\",min)"
   ]
  },
  {
   "cell_type": "code",
   "execution_count": null,
   "metadata": {},
   "outputs": [],
   "source": [
    "class MyClass:\n",
    "    \"\"\"一个简单的类实例\"\"\"\n",
    "    i = 12345\n",
    "    def f(self):\n",
    "        return 'hello world'"
   ]
  },
  {
   "cell_type": "markdown",
   "metadata": {},
   "source": [
    "## 852 山脉数组的峰顶索引\n",
    "### 符合下列属性的数组 arr 称为 山脉数组 ：  \n",
    "\n",
    "   - arr.length >= 3\n",
    "   - 存在 i（0 < i < arr.length - 1）使得：\n",
    "     - arr[0] < arr[1] < ... arr[i-1] < arr[i]\n",
    "     - arr[i] > arr[i+1] > ... > arr[arr.length - 1]\n",
    "   \n",
    "### 要求：\n",
    "- 给一个由整数组成的山脉数组 arr ，返回任何满足 arr[0] < arr[1] < ... arr[i - 1] < arr[i] > arr[i + 1] > ... > arr[arr.length - 1] 的下标 i 。"
   ]
  },
  {
   "cell_type": "markdown",
   "metadata": {},
   "source": [
    "- **解题思路**\n",
    "    1. 要应用二分法来解题，首先确定二分的空间范围，然后确定怎样划分为二\n",
    "        - 二分的空间范围：数组的长度[0,len(nums)]\n",
    "        - 二分的条件：\n",
    "            - **nums[mid]>nums[mid-1]**，则更新左边界：**left=mid**，因为不确定mid的右边的数值是否比当前mid的值大。所以left=mid，而不是left=mid+1\n",
    "            - **否则**，更新右边界：**right=mid-1**\n",
    "    2. **注意临界条件**，即：1、查找空间只剩两个元素时，可能会陷入死循环；2、峰顶值位于arr的最左端。\n",
    "        - if left+1==right or left==right: break  # 用于应对临界条件\n",
    "        - **left+1==right**，应对当二分查找空间只剩下两个数值的时候，可能会陷入死循环\n",
    "            - 例：nums=[1,2,3]\n",
    "            - while 1：L=0,R=2,mid=1-->**n[1]=2>1=n[0],L=mid=1**\n",
    "            - while 2：L=1,R=2,mid=1-->**n[1]=2>1=n[0],L=mid=1**\n",
    "            - **......陷入死循环...**\n",
    "        - **left==right**，应对峰顶值位于arr的最左端，则会出现数组越界。\n",
    "            - 例：nums[3,2,1]\n",
    "            - while 1：L=0,R=2,mid=1-->n[1]=2<3=n[0],R=mid-1=0\n",
    "            - while 2：L=0,R=0,mid=0-->**n[0]=3<?=n[-1]**\n",
    "            - **......数组越界......**\n",
    "        - 因此，要在这个临界条件处，break退出while循环"
   ]
  },
  {
   "cell_type": "code",
   "execution_count": 8,
   "metadata": {},
   "outputs": [],
   "source": [
    "def f(nums):\n",
    "    left,right=0,len(nums)-1\n",
    "    \n",
    "    while left<=right:\n",
    "        mid=(left+right)//2\n",
    "        if left+1==right or left==right:# 用于应对临界条件，\n",
    "            break\n",
    "        # 上坡，直到找到峰顶\n",
    "        if nums[mid]>nums[mid-1]:# 更新左边界，然后继续查找当前mid的右段是否存在更大的值\n",
    "            left=mid\n",
    "        else:# 更新右边界，\n",
    "            right=mid-1\n",
    "    if nums[right]>nums[left]:\n",
    "        return right\n",
    "    else:\n",
    "        return left"
   ]
  },
  {
   "cell_type": "code",
   "execution_count": 13,
   "metadata": {},
   "outputs": [
    {
     "data": {
      "text/plain": [
       "0"
      ]
     },
     "execution_count": 13,
     "metadata": {},
     "output_type": "execute_result"
    }
   ],
   "source": [
    "nums=[0,1,2,3,6,5]\n",
    "nums=[6,4,2,1,0]\n",
    "f(nums)"
   ]
  },
  {
   "cell_type": "markdown",
   "metadata": {},
   "source": [
    "## 367 有效的完全平方数\n",
    "### 完全平方数\n",
    "- 是一个可以写成某个整数的平方的整数。换句话说，它可以写成某个整数和自身的乘积。\n",
    "### 要求：\n",
    "- 给你一个正整数 num 。如果 num 是一个完全平方数，则返回 true ，否则返回 false 。\n",
    "- 不能使用任何内置的库函数，如 sqrt 。"
   ]
  },
  {
   "cell_type": "markdown",
   "metadata": {},
   "source": [
    "### 解题思路：\n",
    "1. 根据完全平方数的特性，可以知道，n的完全平方数在[0,n]之间。\n",
    "2. 因此，该题就可以看做是在一个有序数组中找到**x，x×x==target**。\n",
    "3. 可以用二分查找来解决这个问题。\n",
    "4. **二分查找的查找空间：**若给定整数n，则查找空间为[0,n]\n",
    "5. **查找的判定条件：\n",
    "     - x=mid×mid\n",
    "     - **x==n**，则找到了n的完全平方数。\n",
    "     - x<n,则更新左边界,L=mid\n",
    "     - x>n,则更新右边界,R=mid-1\n",
    "     - 可以注意到，本题的判定条件与之前的**852**一样。因此要先注意临界条件。"
   ]
  },
  {
   "cell_type": "markdown",
   "metadata": {},
   "source": [
    "- 要看仔细题目要求\n",
    "- 对于判定结果的一些细节处理，要对每个题进行相应的细致思考，不能直接照搬其他题目的思路"
   ]
  },
  {
   "cell_type": "code",
   "execution_count": 1,
   "metadata": {},
   "outputs": [],
   "source": [
    "def isPerfectSquare(n):\n",
    "    left,right=0,n\n",
    "    while left<=right:\n",
    "        mid=(left+right)//2\n",
    "        x=mid**2\n",
    "        if left+1==right or left==right:# 用于应对临界条件，\n",
    "            break\n",
    "        if x==n:\n",
    "            return True\n",
    "        elif x<n:\n",
    "            left=mid\n",
    "        else:\n",
    "            right=mid-1\n",
    "    if right**2==n:\n",
    "        return True\n",
    "    elif left**2==n:\n",
    "        return left\n",
    "    else:\n",
    "        return False"
   ]
  },
  {
   "cell_type": "code",
   "execution_count": 2,
   "metadata": {},
   "outputs": [
    {
     "data": {
      "text/plain": [
       "False"
      ]
     },
     "execution_count": 2,
     "metadata": {},
     "output_type": "execute_result"
    }
   ],
   "source": [
    "n=24\n",
    "isPerfectSquare(n)"
   ]
  },
  {
   "cell_type": "markdown",
   "metadata": {},
   "source": [
    "## 410 分割数组的最大值\n",
    "### 要求：\n",
    "1. 给定一个非负整数数组 nums 和一个整数 m ，你需要将这个数组分成 m 个非空的连续子数组。\n",
    "2. 设计一个算法使得这 m 个子数组各自和的最大值最小。"
   ]
  },
  {
   "cell_type": "markdown",
   "metadata": {},
   "source": [
    "### 解题思路（有问题）\n",
    "- 分析题目\n",
    "    1. 根据题目要求可知：解题的主要操作就是对一个数组的划分，然后划分时要符合一个条件。\n",
    "    2. 那么，结合二分法的思路，根据要求1，我们可以把对于数组的划分次数看做是查找空间，找到一个符合题目要求的划分次数。\n",
    "        - 划分次数：m=[0,len(nums)-1]\n",
    "    3. 二分查找符合要求的划分次数，根据要求2，可以知道：\n",
    "        - 若划分的次数m=len(nums)-1，划分的这些子数组各自和的最大值是最小的\n",
    "        - 若划分次数m=0,即不进行划分，则划分的这些子数组各自和的最大值是最大的\n",
    "    4. 二分查找时，循环内的判定查找成功的条件如下：\n",
    "        - 若m[mid]时，所划分的子数组各自和的最大值\n",
    "    "
   ]
  },
  {
   "cell_type": "code",
   "execution_count": null,
   "metadata": {},
   "outputs": [],
   "source": []
  },
  {
   "cell_type": "markdown",
   "metadata": {},
   "source": [
    "## 1385 两个数组间的距离值\n",
    "### 要求：\n",
    "1. 给你两个整数数组 arr1 ， arr2 和一个整数 d ，请你返回两个数组之间的 距离值 。\n",
    "2. **「距离值」** 定义为符合此距离要求的元素数目：对于元素 arr1[i] ，不存在任何元素 arr2[j] 满足 |arr1[i]-arr2[j]| <= d 。\n",
    "### 解题思路：\n",
    "1. 首先，需要一个函数来计算数组arr1的一个元素与数组arr2的距离是否满足距离值 d\n",
    "2. 为了提高效率，考虑使用排序+二分查找来解题\n",
    "    - 先对数组arr1进行降序排序，之后二分查找。\n",
    "    - 若arr1[mid]与arr2满足距离d，则arr[0]-arr1[mid]都满足距离d。\n",
    "    - 然后 h=mid+1,再去查找后续元素中还有没有满足的\n",
    "    - 若arr1[mid]与arr2不满足距离d，则 r=mid-1，向前查找arr1满足距离d的元素"
   ]
  },
  {
   "cell_type": "code",
   "execution_count": 52,
   "metadata": {},
   "outputs": [
    {
     "data": {
      "text/plain": [
       "1"
      ]
     },
     "execution_count": 52,
     "metadata": {},
     "output_type": "execute_result"
    }
   ],
   "source": [
    "import bisect as b\n",
    "def findTheDistanceValue(arr1,arr2,d):\n",
    "    arr2.sort()\n",
    "    cnt = 0\n",
    "    for x in arr1:\n",
    "        p = bisect.bisect_left(arr2, x)\n",
    "        if p == len(arr2) or abs(x - arr2[p]) > d:\n",
    "            if p == 0 or abs(x - arr2[p - 1]) > d:\n",
    "                cnt += 1\n",
    "    return cnt\n",
    "\n",
    "arr1=[2,1,100,3]\n",
    "\n",
    "arr2=[-5,-2,10,-3,7]\n",
    "d=6\n",
    "findTheDistanceValue(arr1,arr2,d)"
   ]
  },
  {
   "cell_type": "code",
   "execution_count": 78,
   "metadata": {},
   "outputs": [
    {
     "data": {
      "text/plain": [
       "5"
      ]
     },
     "execution_count": 78,
     "metadata": {},
     "output_type": "execute_result"
    }
   ],
   "source": [
    "def index(a, x):\n",
    "    'Locate the leftmost value exactly equal to x'\n",
    "    i = b.bisect_left(a, x)\n",
    "    if i != len(a) and a[i] == x:\n",
    "        return i\n",
    "    else :\n",
    "        return -1\n",
    "\n",
    "def find_lt(a, x):\n",
    "    'Find rightmost value less than x'\n",
    "    i = b.bisect_left(a, x)\n",
    "    if i:\n",
    "        return a[i-1],i-1\n",
    "    raise ValueError\n",
    "    \n",
    "def find_le(a, x):\n",
    "    'Find rightmost value less than or equal to x'\n",
    "    i = b.bisect_right(a, x)\n",
    "    if i:\n",
    "        return a[i-1],i-1\n",
    "    raise ValueError\n",
    "    \n",
    "def find(a,x):\n",
    "    return b.bisect_left(a,x)\n",
    "    \n",
    "a=[0,1,2,2,2,5,6,7]\n",
    "\n",
    "x=4\n",
    "find(a, x)"
   ]
  },
  {
   "cell_type": "code",
   "execution_count": null,
   "metadata": {},
   "outputs": [],
   "source": [
    "# 蓝桥杯的一道结果填空题\n",
    "\n",
    "y=[i for i in range(2,50)]#2022040920220409\n",
    "result=[1,2,1,4,5,4,1,2,9,0,5,10,\n",
    "        11,14,9,0,11,18,9,11,11,15,17,9,\n",
    "        23,20,25,16,29,27,25,11,17,4,29,22,\n",
    "       37,23,9,1,11,11,33,29,15,5,41,46]\n",
    "\n",
    "def lanqiao(y,result):\n",
    "    def f(x):\n",
    "        for a,b in zip(y,result):\n",
    "            if x%a!=b:\n",
    "                return False\n",
    "        return True\n",
    "\n",
    "    for x in range(1,10**17):\n",
    "        print(x)\n",
    "        if f(x):\n",
    "            return x\n",
    "        \n",
    "lanqiao(y,result)"
   ]
  },
  {
   "cell_type": "code",
   "execution_count": 5,
   "metadata": {},
   "outputs": [
    {
     "name": "stdout",
     "output_type": "stream",
     "text": [
      "True\n"
     ]
    }
   ],
   "source": [
    "a=[i for i in range(2,50)]#2022040920220409\n",
    "result=[1,2,1,4,5,4,1,2,9,0,5,10,\n",
    "        11,14,9,0,11,18,9,11,11,15,17,9,\n",
    "        23,20,25,16,29,27,25,11,17,4,29,22,\n",
    "       37,23,9,1,11,11,33,29,15,5,41,46]\n",
    "x=2022040920220409\n",
    "for a,b in zip(a,result):\n",
    "    if x%a!=b:\n",
    "        print(False)\n",
    "print(True)\n"
   ]
  },
  {
   "cell_type": "markdown",
   "metadata": {},
   "source": [
    "## 69 x 的平方根\n",
    "\n",
    "### 问题分析\n",
    "  - 这个可以说是一个典型的最右边界条件的二分查找。\n",
    "  - 因此要考虑在只剩两个查找元素时，退出while循环，避免陷入死循环中"
   ]
  },
  {
   "cell_type": "code",
   "execution_count": 7,
   "metadata": {},
   "outputs": [
    {
     "name": "stdout",
     "output_type": "stream",
     "text": [
      "mid== 1\n",
      "mid== 1\n"
     ]
    },
    {
     "data": {
      "text/plain": [
       "1"
      ]
     },
     "execution_count": 7,
     "metadata": {},
     "output_type": "execute_result"
    }
   ],
   "source": [
    "def xxx(x):\n",
    "    left,right=0,x\n",
    "    while left<=right:\n",
    "        mid=(left+right)//2\n",
    "        print('mid==',mid)\n",
    "        if left==right or left+1==right:\n",
    "            break\n",
    "        if mid**2 <= x:\n",
    "            left=mid\n",
    "        else:\n",
    "            right=mid-1\n",
    "    if right**2 == x:\n",
    "        return right\n",
    "    else:\n",
    "        return left\n",
    "    \n",
    "xxx(2)"
   ]
  },
  {
   "cell_type": "markdown",
   "metadata": {},
   "source": [
    "## 744 寻找比目标字母大的最小字母(有一些问题，死循环了)\n",
    "### 题目\n",
    "- 给你一个字符数组 letters，该数组按非递减顺序排序，以及一个字符 target。letters 里至少有两个不同的字符。\n",
    "- 要求：返回 letters 中大于 target 的最小的字符。如果不存在这样的字符，则返回 letters 的第一个字符。\n",
    "### 题目分析\n",
    "  - 数组按非递减顺序排序，那么，该题可以看做是找到第一个大于target的数组元素\n",
    "  - 也就是一个最左边界值的二分查找"
   ]
  },
  {
   "cell_type": "code",
   "execution_count": 1,
   "metadata": {},
   "outputs": [
    {
     "name": "stdout",
     "output_type": "stream",
     "text": [
      "mid== 1\n"
     ]
    },
    {
     "data": {
      "text/plain": [
       "'c'"
      ]
     },
     "execution_count": 1,
     "metadata": {},
     "output_type": "execute_result"
    }
   ],
   "source": [
    "def nextGreatestLetter(letters, target):\n",
    "    left,right=0,len(letters)-1\n",
    "    while left<=right:\n",
    "        mid=(left+right)//2\n",
    "        print('mid==',mid)\n",
    "        break\n",
    "        if letters[mid] > target:\n",
    "            right = mid\n",
    "        else:\n",
    "            left = mid+1\n",
    "    if letters[left] > target:\n",
    "        return letters[left]\n",
    "    else :\n",
    "        return letters[0]\n",
    "    \n",
    "letters = [\"c\", \"f\", \"j\"]\n",
    "target = \"a\"\n",
    "nextGreatestLetter(letters, target)"
   ]
  },
  {
   "cell_type": "code",
   "execution_count": null,
   "metadata": {},
   "outputs": [],
   "source": []
  }
 ],
 "metadata": {
  "kernelspec": {
   "display_name": "Python 3",
   "language": "python",
   "name": "python3"
  },
  "language_info": {
   "codemirror_mode": {
    "name": "ipython",
    "version": 3
   },
   "file_extension": ".py",
   "mimetype": "text/x-python",
   "name": "python",
   "nbconvert_exporter": "python",
   "pygments_lexer": "ipython3",
   "version": "3.7.0"
  }
 },
 "nbformat": 4,
 "nbformat_minor": 2
}
